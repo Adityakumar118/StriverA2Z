{
 "cells": [
  {
   "cell_type": "markdown",
   "id": "1637a5ea",
   "metadata": {},
   "source": [
    "1. Selection Sort"
   ]
  },
  {
   "cell_type": "code",
   "execution_count": 12,
   "id": "0bfa332e",
   "metadata": {},
   "outputs": [
    {
     "name": "stdout",
     "output_type": "stream",
     "text": [
      "[1, 2, 2, 3, 4, 5, 6, 7, 8]\n"
     ]
    }
   ],
   "source": [
    "class Solution:\n",
    "    def selectionSort(nums):\n",
    "        n = len(nums)\n",
    "        for i in range(n):\n",
    "            mini_idx = i\n",
    "            for j in range(i+1, n):\n",
    "                if nums[j] < nums[mini_idx]:\n",
    "                    mini_idx = j\n",
    "            nums[i], nums[mini_idx] = nums[mini_idx], nums[i]\n",
    "        return nums\n",
    "\n",
    "if __name__ == \"__main__\":\n",
    "    nums = [1, 7, 5, 2, 4, 6, 2, 8,3]\n",
    "    print(Solution.selectionSort(nums))"
   ]
  },
  {
   "cell_type": "markdown",
   "id": "accc3892",
   "metadata": {},
   "source": [
    "2. Bubble Sort"
   ]
  },
  {
   "cell_type": "code",
   "execution_count": 16,
   "id": "8c78b041",
   "metadata": {},
   "outputs": [
    {
     "name": "stdout",
     "output_type": "stream",
     "text": [
      "[1, 2, 4, 5, 6, 7, 9]\n"
     ]
    }
   ],
   "source": [
    "class Solution:\n",
    "    def BubbleSort(nums):\n",
    "        n = len(nums)\n",
    "        for i in range(n-1):\n",
    "            for j in range(0,n-i-1):\n",
    "                if nums[j]>nums[j+1]:\n",
    "                    nums[j],nums[j+1] = nums[j+1],nums[j]\n",
    "        return nums\n",
    "\n",
    "if __name__==\"__main__\":\n",
    "    nums = [1,5,7,6,2,9,4]\n",
    "    print(Solution.BubbleSort(nums))"
   ]
  },
  {
   "cell_type": "markdown",
   "id": "1097a6fa",
   "metadata": {},
   "source": [
    "3.Insertion Sort"
   ]
  },
  {
   "cell_type": "code",
   "execution_count": 1,
   "id": "754211ee",
   "metadata": {},
   "outputs": [
    {
     "name": "stdout",
     "output_type": "stream",
     "text": [
      "[1, 2, 4, 5, 6, 7, 9]\n"
     ]
    }
   ],
   "source": [
    "class Solution:\n",
    "    def InsertionSort(nums):\n",
    "        n = len(nums)\n",
    "        for i in range(1,n):\n",
    "            key = nums[i]\n",
    "            j= i-1\n",
    "            while j>=0 and nums[j] >key:\n",
    "                nums[j+1] = nums[j]\n",
    "                j-=1\n",
    "            nums[j+1] = key\n",
    "        return nums\n",
    "\n",
    "if __name__==\"__main__\":\n",
    "    nums = [1,5,7,6,2,9,4]\n",
    "    print(Solution.InsertionSort(nums))"
   ]
  },
  {
   "cell_type": "markdown",
   "id": "1b58fb4a",
   "metadata": {},
   "source": [
    "4. Merge Sort"
   ]
  },
  {
   "cell_type": "code",
   "execution_count": 5,
   "id": "707ef9cd",
   "metadata": {},
   "outputs": [
    {
     "name": "stdout",
     "output_type": "stream",
     "text": [
      "Sorted array: [1, 2, 5, 5, 6, 9]\n"
     ]
    }
   ],
   "source": [
    "class Solution:\n",
    "    def mergeSort(nums, low, high):\n",
    "        if low >= high:\n",
    "            return\n",
    "        mid = (low + high) // 2\n",
    "        Solution.mergeSort(nums, low, mid)\n",
    "        Solution.mergeSort(nums, mid + 1, high)\n",
    "        Solution.merge(nums, low, mid, high)\n",
    "\n",
    "    def merge(nums, low, mid, high):\n",
    "        temp = []\n",
    "        left = low\n",
    "        right = mid + 1\n",
    "\n",
    "        while left <= mid and right <= high:\n",
    "            if nums[left] <= nums[right]:\n",
    "                temp.append(nums[left])\n",
    "                left += 1\n",
    "            else:\n",
    "                temp.append(nums[right])\n",
    "                right += 1\n",
    "\n",
    "        while left <= mid:\n",
    "            temp.append(nums[left])\n",
    "            left += 1\n",
    "\n",
    "        while right <= high:\n",
    "            temp.append(nums[right])\n",
    "            right += 1\n",
    "\n",
    "        for i in range(len(temp)):\n",
    "            nums[low + i] = temp[i]\n",
    "\n",
    "nums = [5, 2, 9, 1, 5, 6]\n",
    "Solution.mergeSort(nums, 0, len(nums) - 1)\n",
    "print(\"Sorted array:\", nums)\n"
   ]
  },
  {
   "cell_type": "markdown",
   "id": "124bc097",
   "metadata": {},
   "source": [
    "5. Quick Sort"
   ]
  },
  {
   "cell_type": "code",
   "execution_count": 3,
   "id": "310db0b8",
   "metadata": {},
   "outputs": [
    {
     "name": "stdout",
     "output_type": "stream",
     "text": [
      "Sorted array: [1, 2, 5, 5, 6, 9]\n"
     ]
    }
   ],
   "source": [
    "class Solution:\n",
    "    def partition(nums, low, high):\n",
    "        pivot = nums[low]\n",
    "        i = low + 1\n",
    "        j = high\n",
    "\n",
    "        while True:\n",
    "            while i <= j and nums[i] <= pivot:\n",
    "                i += 1\n",
    "            while i <= j and nums[j] > pivot:\n",
    "                j -= 1\n",
    "            if i <= j:\n",
    "                nums[i], nums[j] = nums[j], nums[i]\n",
    "            else:\n",
    "                break\n",
    "\n",
    "        nums[low], nums[j] = nums[j], nums[low]\n",
    "        return j\n",
    "\n",
    "    def quickSort(nums, low, high):\n",
    "        if low < high:\n",
    "            p_Index = Solution.partition(nums, low, high)\n",
    "            Solution.quickSort(nums, low, p_Index - 1)\n",
    "            Solution.quickSort(nums, p_Index + 1, high)\n",
    "\n",
    "nums = [5, 2, 9, 1, 5, 6]\n",
    "Solution.quickSort(nums, 0, len(nums) - 1)\n",
    "print(\"Sorted array:\", nums)"
   ]
  }
 ],
 "metadata": {
  "kernelspec": {
   "display_name": "base",
   "language": "python",
   "name": "python3"
  },
  "language_info": {
   "codemirror_mode": {
    "name": "ipython",
    "version": 3
   },
   "file_extension": ".py",
   "mimetype": "text/x-python",
   "name": "python",
   "nbconvert_exporter": "python",
   "pygments_lexer": "ipython3",
   "version": "3.12.7"
  }
 },
 "nbformat": 4,
 "nbformat_minor": 5
}
