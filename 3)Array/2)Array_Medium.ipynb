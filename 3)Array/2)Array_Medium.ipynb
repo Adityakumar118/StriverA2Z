{
 "cells": [
  {
   "cell_type": "markdown",
   "id": "ea01277b",
   "metadata": {},
   "source": [
    "1. 2Sum Problem"
   ]
  },
  {
   "cell_type": "code",
   "execution_count": 1,
   "id": "e047e5ea",
   "metadata": {},
   "outputs": [
    {
     "name": "stdout",
     "output_type": "stream",
     "text": [
      "[0, 1]\n"
     ]
    }
   ],
   "source": [
    "class Solution:\n",
    "    def twosum(nums,k):\n",
    "        n = len(nums)\n",
    "        mp = {}\n",
    "        for i in range(0,n):\n",
    "            remain = k - nums[i]\n",
    "            if remain in mp:\n",
    "                return [mp[remain],i]\n",
    "            mp[nums[i]] = i\n",
    "        return []\n",
    "    \n",
    "if __name__==\"__main__\":\n",
    "    nums = [2,7,11,15]\n",
    "    k = 9\n",
    "    print(Solution.twosum(nums,k))"
   ]
  },
  {
   "cell_type": "markdown",
   "id": "5573de36",
   "metadata": {},
   "source": [
    "2. Sort an array of 0's 1's and 2's"
   ]
  },
  {
   "cell_type": "code",
   "execution_count": 2,
   "id": "1a01e40c",
   "metadata": {},
   "outputs": [
    {
     "name": "stdout",
     "output_type": "stream",
     "text": [
      "[0, 0, 0, 0, 1, 1, 1, 1, 2, 2, 2, 2]\n"
     ]
    }
   ],
   "source": [
    "class Solution:\n",
    "    def sortArr(nums):\n",
    "        low , mid , high = 0 , 0 , len(nums) - 1\n",
    "        while mid <= high:\n",
    "            if nums[mid] == 0:\n",
    "                nums[low], nums[mid] = nums[mid], nums[low]\n",
    "                low += 1\n",
    "                mid += 1\n",
    "            elif nums[mid] == 1:\n",
    "                mid += 1\n",
    "            else:  \n",
    "                nums[mid], nums[high] = nums[high], nums[mid]\n",
    "                high -= 1\n",
    "        return nums\n",
    "if __name__==\"__main__\":\n",
    "    nums=[0,0,1,0,2,0,1,1,1,2,2,2]\n",
    "    print(Solution.sortArr(nums))"
   ]
  },
  {
   "cell_type": "markdown",
   "id": "11a0af54",
   "metadata": {},
   "source": [
    "3. Majority Element"
   ]
  },
  {
   "cell_type": "code",
   "execution_count": 3,
   "id": "57eb6228",
   "metadata": {},
   "outputs": [
    {
     "name": "stdout",
     "output_type": "stream",
     "text": [
      "3\n"
     ]
    }
   ],
   "source": [
    "class Solution:\n",
    "    def majority(nums):\n",
    "        nums.sort() \n",
    "        n= len(nums)\n",
    "        return nums[n//2]\n",
    "    \n",
    "if __name__==\"__main__\":\n",
    "    nums=[3,1,3]\n",
    "    print(Solution.majority(nums))"
   ]
  },
  {
   "cell_type": "markdown",
   "id": "6d76dd8f",
   "metadata": {},
   "source": [
    "4. Kadane's Algorithm, maximum subarray sum"
   ]
  },
  {
   "cell_type": "code",
   "execution_count": 1,
   "id": "b2c95bf4",
   "metadata": {},
   "outputs": [
    {
     "name": "stdout",
     "output_type": "stream",
     "text": [
      "6\n"
     ]
    }
   ],
   "source": [
    "class Solution:\n",
    "    def maxSubArray(nums):\n",
    "        max_sum = float('-inf')\n",
    "        current_sum = 0\n",
    "\n",
    "        for num in nums:\n",
    "            current_sum += num\n",
    "            max_sum = max(current_sum,max_sum)\n",
    "            if current_sum < 0:\n",
    "                current_sum = 0\n",
    "        \n",
    "        return max_sum\n",
    "    \n",
    "if __name__==\"__main__\":\n",
    "    nums = [-2,1,-3,4,-1,2,1,-5,4]\n",
    "    print(Solution.maxSubArray(nums))\n",
    "        "
   ]
  },
  {
   "cell_type": "markdown",
   "id": "1845e0b0",
   "metadata": {},
   "source": [
    "5. \tPrint subarray with maximum subarray sum (Print any sub array)"
   ]
  },
  {
   "cell_type": "code",
   "execution_count": 2,
   "id": "6925b216",
   "metadata": {},
   "outputs": [
    {
     "name": "stdout",
     "output_type": "stream",
     "text": [
      "Maximum Subarray Sum: 6\n",
      "Subarray: [4, -1, 2, 1]\n"
     ]
    }
   ],
   "source": [
    "class Solution:\n",
    "    def kadane_with_subarray(arr):\n",
    "        max_so_far = float('-inf')\n",
    "        max_ending_here = 0\n",
    "        start = end = s = 0\n",
    "\n",
    "        for i in range(len(arr)):\n",
    "            max_ending_here += arr[i]\n",
    "\n",
    "            if max_ending_here > max_so_far:\n",
    "                max_so_far = max_ending_here\n",
    "                start = s\n",
    "                end = i\n",
    "\n",
    "            if max_ending_here < 0:\n",
    "                max_ending_here = 0\n",
    "                s = i + 1\n",
    "\n",
    "        print(\"Maximum Subarray Sum:\", max_so_far)\n",
    "        print(\"Subarray:\", arr[start:end+1])\n",
    "\n",
    "if __name__==\"__main__\":\n",
    "    arr = [-2, 1, -3, 4, -1, 2, 1, -5, 4]\n",
    "    Solution.kadane_with_subarray(arr)"
   ]
  },
  {
   "cell_type": "markdown",
   "id": "f7011003",
   "metadata": {},
   "source": [
    "6. \tPrint subarray with maximum subarray sum (Print all sub array)"
   ]
  },
  {
   "cell_type": "code",
   "execution_count": 3,
   "id": "ad05b189",
   "metadata": {},
   "outputs": [
    {
     "name": "stdout",
     "output_type": "stream",
     "text": [
      "Maximum Subarray Sum: 6\n",
      "All Subarrays with Maximum Sum:\n",
      "[4, -1, 2, 1]\n"
     ]
    }
   ],
   "source": [
    "class Solution:\n",
    "    def all_max_sum_subarrays(arr):\n",
    "        max_so_far = float('-inf')\n",
    "        max_ending_here = 0\n",
    "\n",
    "        for num in arr:\n",
    "            max_ending_here = max(num, max_ending_here + num)\n",
    "            max_so_far = max(max_so_far, max_ending_here)\n",
    "\n",
    "        print(\"Maximum Subarray Sum:\", max_so_far)\n",
    "\n",
    "        result = []\n",
    "        for start in range(len(arr)):\n",
    "            current_sum = 0\n",
    "            for end in range(start, len(arr)):\n",
    "                current_sum += arr[end]\n",
    "                if current_sum == max_so_far:\n",
    "                    result.append(arr[start:end+1])\n",
    "\n",
    "        print(\"All Subarrays with Maximum Sum:\")\n",
    "        for sub in result:\n",
    "            print(sub)\n",
    "\n",
    "if __name__==\"__main__\":\n",
    "    arr = [-2, 1, -3, 4, -1, 2, 1, -5, 4]\n",
    "    Solution.all_max_sum_subarrays(arr)\n"
   ]
  },
  {
   "cell_type": "markdown",
   "id": "a1344add",
   "metadata": {},
   "source": [
    "7. \tPrint subarray with maximum subarray sum (All negative elemnt)"
   ]
  },
  {
   "cell_type": "code",
   "execution_count": 4,
   "id": "c4c8dda9",
   "metadata": {},
   "outputs": [
    {
     "name": "stdout",
     "output_type": "stream",
     "text": [
      "Maximum Subarray Sum: -2\n",
      "Subarray: [-2]\n"
     ]
    }
   ],
   "source": [
    "class Solution:\n",
    "    def kadane_all_negative(arr):\n",
    "        max_so_far = arr[0]\n",
    "        max_ending_here = arr[0]\n",
    "        start = end = s = 0\n",
    "\n",
    "        for i in range(1, len(arr)):\n",
    "            if arr[i] > max_ending_here + arr[i]:\n",
    "                max_ending_here = arr[i]\n",
    "                s = i\n",
    "            else:\n",
    "                max_ending_here += arr[i]\n",
    "\n",
    "            if max_ending_here > max_so_far:\n",
    "                max_so_far = max_ending_here\n",
    "                start = s\n",
    "                end = i\n",
    "\n",
    "        print(\"Maximum Subarray Sum:\", max_so_far)\n",
    "        print(\"Subarray:\", arr[start:end+1])\n",
    "\n",
    "if __name__==\"__main__\":\n",
    "    arr = [-8, -3, -6, -2, -5, -4]\n",
    "    Solution.kadane_all_negative(arr)"
   ]
  },
  {
   "cell_type": "markdown",
   "id": "327724ff",
   "metadata": {},
   "source": [
    "8. Stock Buy and Sell"
   ]
  },
  {
   "cell_type": "code",
   "execution_count": 3,
   "id": "64b3ae9f",
   "metadata": {},
   "outputs": [
    {
     "name": "stdout",
     "output_type": "stream",
     "text": [
      "Maximum profit =  5\n"
     ]
    }
   ],
   "source": [
    "class Solution:\n",
    "    def maxProfit(prices):\n",
    "        maxi = 0\n",
    "        mini = float('inf')\n",
    "        n = len(prices)\n",
    "        for i in range(0,n):\n",
    "            mini = min(mini,prices[i])\n",
    "            maxi = max(maxi,prices[i]-mini)\n",
    "        return maxi\n",
    "    \n",
    "if __name__==\"__main__\":\n",
    "    prices = [7,1,5,3,6,4]\n",
    "    print(\"Maximum profit = \",Solution.maxProfit(prices))\n",
    "        "
   ]
  },
  {
   "cell_type": "markdown",
   "id": "684fb0fe",
   "metadata": {},
   "source": [
    "9. Rearrange the array in alternating positive and negative itemsRearrange the array in alternating positive and negative items"
   ]
  },
  {
   "cell_type": "code",
   "execution_count": null,
   "id": "c54d6a97",
   "metadata": {},
   "outputs": [],
   "source": []
  }
 ],
 "metadata": {
  "kernelspec": {
   "display_name": "base",
   "language": "python",
   "name": "python3"
  },
  "language_info": {
   "codemirror_mode": {
    "name": "ipython",
    "version": 3
   },
   "file_extension": ".py",
   "mimetype": "text/x-python",
   "name": "python",
   "nbconvert_exporter": "python",
   "pygments_lexer": "ipython3",
   "version": "3.12.7"
  }
 },
 "nbformat": 4,
 "nbformat_minor": 5
}
