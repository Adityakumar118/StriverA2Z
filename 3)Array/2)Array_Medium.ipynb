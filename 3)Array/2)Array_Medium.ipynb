{
 "cells": [
  {
   "cell_type": "markdown",
   "id": "ea01277b",
   "metadata": {},
   "source": [
    "1. 2Sum Problem"
   ]
  },
  {
   "cell_type": "code",
   "execution_count": 1,
   "id": "e047e5ea",
   "metadata": {},
   "outputs": [
    {
     "name": "stdout",
     "output_type": "stream",
     "text": [
      "[0, 1]\n"
     ]
    }
   ],
   "source": [
    "class Solution:\n",
    "    def twosum(nums,k):\n",
    "        n = len(nums)\n",
    "        mp = {}\n",
    "        for i in range(0,n):\n",
    "            remain = k - nums[i]\n",
    "            if remain in mp:\n",
    "                return [mp[remain],i]\n",
    "            mp[nums[i]] = i\n",
    "        return []\n",
    "    \n",
    "if __name__==\"__main__\":\n",
    "    nums = [2,7,11,15]\n",
    "    k = 9\n",
    "    print(Solution.twosum(nums,k))"
   ]
  },
  {
   "cell_type": "markdown",
   "id": "5573de36",
   "metadata": {},
   "source": [
    "2. Sort an array of 0's 1's and 2's"
   ]
  },
  {
   "cell_type": "code",
   "execution_count": 2,
   "id": "1a01e40c",
   "metadata": {},
   "outputs": [
    {
     "name": "stdout",
     "output_type": "stream",
     "text": [
      "[0, 0, 0, 0, 1, 1, 1, 1, 2, 2, 2, 2]\n"
     ]
    }
   ],
   "source": [
    "class Solution:\n",
    "    def sortArr(nums):\n",
    "        low , mid , high = 0 , 0 , len(nums) - 1\n",
    "        while mid <= high:\n",
    "            if nums[mid] == 0:\n",
    "                nums[low], nums[mid] = nums[mid], nums[low]\n",
    "                low += 1\n",
    "                mid += 1\n",
    "            elif nums[mid] == 1:\n",
    "                mid += 1\n",
    "            else:  \n",
    "                nums[mid], nums[high] = nums[high], nums[mid]\n",
    "                high -= 1\n",
    "        return nums\n",
    "if __name__==\"__main__\":\n",
    "    nums=[0,0,1,0,2,0,1,1,1,2,2,2]\n",
    "    print(Solution.sortArr(nums))"
   ]
  },
  {
   "cell_type": "markdown",
   "id": "11a0af54",
   "metadata": {},
   "source": [
    "3. Majority Element"
   ]
  },
  {
   "cell_type": "code",
   "execution_count": 3,
   "id": "57eb6228",
   "metadata": {},
   "outputs": [
    {
     "name": "stdout",
     "output_type": "stream",
     "text": [
      "3\n"
     ]
    }
   ],
   "source": [
    "class Solution:\n",
    "    def majority(nums):\n",
    "        nums.sort() \n",
    "        n= len(nums)\n",
    "        return nums[n//2]\n",
    "    \n",
    "if __name__==\"__main__\":\n",
    "    nums=[3,1,3]\n",
    "    print(Solution.majority(nums))"
   ]
  }
 ],
 "metadata": {
  "kernelspec": {
   "display_name": "base",
   "language": "python",
   "name": "python3"
  },
  "language_info": {
   "codemirror_mode": {
    "name": "ipython",
    "version": 3
   },
   "file_extension": ".py",
   "mimetype": "text/x-python",
   "name": "python",
   "nbconvert_exporter": "python",
   "pygments_lexer": "ipython3",
   "version": "3.12.7"
  }
 },
 "nbformat": 4,
 "nbformat_minor": 5
}
