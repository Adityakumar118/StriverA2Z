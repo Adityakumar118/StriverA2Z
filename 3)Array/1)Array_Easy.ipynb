{
 "cells": [
  {
   "cell_type": "markdown",
   "id": "a25405dc",
   "metadata": {},
   "source": [
    "1.Largest Element in an Array"
   ]
  },
  {
   "cell_type": "code",
   "execution_count": 3,
   "id": "2d3984b8",
   "metadata": {},
   "outputs": [
    {
     "name": "stdout",
     "output_type": "stream",
     "text": [
      "Largest element =  10\n"
     ]
    }
   ],
   "source": [
    "class Solution:\n",
    "    def largest(nums):\n",
    "        largest = float('-inf')\n",
    "\n",
    "        for i in nums:\n",
    "            if i > largest:\n",
    "                largest = i\n",
    "        return largest\n",
    "\n",
    "    if __name__==\"__main__\":\n",
    "        nums = [2,5,3,4,8,1,4,6,7,9,10]\n",
    "        print(\"Largest element = \",largest(nums))"
   ]
  },
  {
   "cell_type": "markdown",
   "id": "9c64c302",
   "metadata": {},
   "source": [
    "2. Second Largest Element in an Array without sorting"
   ]
  },
  {
   "cell_type": "code",
   "execution_count": 5,
   "id": "2a0e23ca",
   "metadata": {},
   "outputs": [
    {
     "name": "stdout",
     "output_type": "stream",
     "text": [
      "second Largest element =  9\n"
     ]
    }
   ],
   "source": [
    "class Solution:\n",
    "    def largest(nums):\n",
    "        largest = float('-inf')\n",
    "        snd_largest = float('-inf')\n",
    "\n",
    "        for i in nums:\n",
    "            if i > largest:\n",
    "                snd_largest= largest\n",
    "                largest = i\n",
    "            elif i > snd_largest and i!= largest:\n",
    "                snd_largest = i\n",
    "        return snd_largest\n",
    "\n",
    "    if __name__==\"__main__\":\n",
    "        nums = [2,5,3,4,8,1,4,6,7,9,10]\n",
    "        print(\"second Largest element = \",largest(nums))"
   ]
  }
 ],
 "metadata": {
  "kernelspec": {
   "display_name": "base",
   "language": "python",
   "name": "python3"
  },
  "language_info": {
   "codemirror_mode": {
    "name": "ipython",
    "version": 3
   },
   "file_extension": ".py",
   "mimetype": "text/x-python",
   "name": "python",
   "nbconvert_exporter": "python",
   "pygments_lexer": "ipython3",
   "version": "3.12.7"
  }
 },
 "nbformat": 4,
 "nbformat_minor": 5
}
