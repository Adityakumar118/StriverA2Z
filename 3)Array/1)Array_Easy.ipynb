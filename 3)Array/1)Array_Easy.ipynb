{
 "cells": [
  {
   "cell_type": "markdown",
   "id": "a25405dc",
   "metadata": {},
   "source": [
    "1.Largest Element in an Array"
   ]
  },
  {
   "cell_type": "code",
   "execution_count": 3,
   "id": "2d3984b8",
   "metadata": {},
   "outputs": [
    {
     "name": "stdout",
     "output_type": "stream",
     "text": [
      "Largest element =  10\n"
     ]
    }
   ],
   "source": [
    "class Solution:\n",
    "    def largest(nums):\n",
    "        largest = float('-inf')\n",
    "\n",
    "        for i in nums:\n",
    "            if i > largest:\n",
    "                largest = i\n",
    "        return largest\n",
    "\n",
    "    if __name__==\"__main__\":\n",
    "        nums = [2,5,3,4,8,1,4,6,7,9,10]\n",
    "        print(\"Largest element = \",largest(nums))"
   ]
  },
  {
   "cell_type": "markdown",
   "id": "9c64c302",
   "metadata": {},
   "source": [
    "2. Second Largest Element in an Array without sorting"
   ]
  },
  {
   "cell_type": "code",
   "execution_count": 5,
   "id": "2a0e23ca",
   "metadata": {},
   "outputs": [
    {
     "name": "stdout",
     "output_type": "stream",
     "text": [
      "second Largest element =  9\n"
     ]
    }
   ],
   "source": [
    "class Solution:\n",
    "    def largest(nums):\n",
    "        largest = float('-inf')\n",
    "        snd_largest = float('-inf')\n",
    "\n",
    "        for i in nums:\n",
    "            if i > largest:\n",
    "                snd_largest= largest\n",
    "                largest = i\n",
    "            elif i > snd_largest and i!= largest:\n",
    "                snd_largest = i\n",
    "        return snd_largest\n",
    "\n",
    "    if __name__==\"__main__\":\n",
    "        nums = [2,5,3,4,8,1,4,6,7,9,10]\n",
    "        print(\"second Largest element = \",largest(nums))"
   ]
  },
  {
   "cell_type": "markdown",
   "id": "73ee5bd4",
   "metadata": {},
   "source": [
    "3. Check if the array is sorted"
   ]
  },
  {
   "cell_type": "code",
   "execution_count": 5,
   "id": "6c8ea0f1",
   "metadata": {},
   "outputs": [
    {
     "name": "stdout",
     "output_type": "stream",
     "text": [
      "True\n"
     ]
    }
   ],
   "source": [
    "class Solution:\n",
    "    def sortedArray(nums):\n",
    "        for i in range(1,len(nums)):\n",
    "            if nums[i] < nums[i-1]:\n",
    "                return False\n",
    "        return True\n",
    "\n",
    "if __name__ ==\"__main__\":\n",
    "    nums= [1,2,5,6,9]\n",
    "    print(Solution.sortedArray(nums))"
   ]
  },
  {
   "cell_type": "markdown",
   "id": "b3535568",
   "metadata": {},
   "source": [
    "4. Check if Array Is Sorted and Rotated"
   ]
  },
  {
   "cell_type": "code",
   "execution_count": 7,
   "id": "f0302cf8",
   "metadata": {},
   "outputs": [
    {
     "name": "stdout",
     "output_type": "stream",
     "text": [
      "True\n"
     ]
    }
   ],
   "source": [
    "class Solution:\n",
    "    def checkArray(nums):\n",
    "        n = len(nums) - 1\n",
    "        cnt = 0\n",
    "        if nums[0] < nums[n]:\n",
    "            cnt+=1\n",
    "        for i in range(n):\n",
    "            if nums[i] > nums[i+1]:\n",
    "                cnt+=1\n",
    "            if cnt > 1:\n",
    "                return False\n",
    "        return True\n",
    "if __name__==\"__main__\":\n",
    "    nums = [3,4,5,1,2]\n",
    "    print(Solution.checkArray(nums))"
   ]
  },
  {
   "cell_type": "markdown",
   "id": "34a1bc63",
   "metadata": {},
   "source": [
    "5. Remove duplicates from Sorted array"
   ]
  },
  {
   "cell_type": "code",
   "execution_count": 15,
   "id": "82158c9f",
   "metadata": {},
   "outputs": [
    {
     "name": "stdout",
     "output_type": "stream",
     "text": [
      "7\n"
     ]
    }
   ],
   "source": [
    "class Solution:\n",
    "    def removeDuplicate(nums):\n",
    "        n= len(nums)\n",
    "        if n==1:\n",
    "            return 1\n",
    "        i = 0\n",
    "        j = i+1\n",
    "        while j < n:\n",
    "            if nums[j] != nums[i]:\n",
    "                i+=1\n",
    "                nums[i],nums[j] = nums[j],nums[i]\n",
    "            j+=1\n",
    "        return i+1\n",
    "    \n",
    "    if __name__ ==\"__main__\":\n",
    "        nums = [0,0,1,1,1,2,2,3,3,4,5,6]\n",
    "        print(Solution.removeDuplicate(nums))\n"
   ]
  },
  {
   "cell_type": "markdown",
   "id": "ac4b1019",
   "metadata": {},
   "source": [
    "8. Right Rotate an array by one place"
   ]
  },
  {
   "cell_type": "code",
   "execution_count": null,
   "id": "9af2f5bb",
   "metadata": {},
   "outputs": [
    {
     "name": "stdout",
     "output_type": "stream",
     "text": [
      "[8, 1, 2, 5, 3.6, 7]\n"
     ]
    }
   ],
   "source": [
    "class Solution:\n",
    "    def rightRotate(nums):\n",
    "        n = len(nums)\n",
    "        temp = nums[n-1]\n",
    "        for i in range(n-2,-1,-1):\n",
    "            nums[i+1] = nums[i]\n",
    "        nums[0] = temp\n",
    "\n",
    "    if __name__==\"__main__\":\n",
    "        nums = [1,2,5,3,6,7,8]\n",
    "        Solution.rightRotate(nums)\n",
    "        print(nums)"
   ]
  },
  {
   "cell_type": "markdown",
   "id": "9b87be4b",
   "metadata": {},
   "source": [
    "9. Right Rotate an array by k place"
   ]
  },
  {
   "cell_type": "code",
   "execution_count": 20,
   "id": "1088f30c",
   "metadata": {},
   "outputs": [
    {
     "name": "stdout",
     "output_type": "stream",
     "text": [
      "[6, 7, 8, 1, 2, 5, 3]\n"
     ]
    }
   ],
   "source": [
    "class Solution:\n",
    "    def rightRotate(nums,k):\n",
    "        n = len(nums)\n",
    "        k = k % n\n",
    "        nums[:] = nums[n-k:] + nums[:n-k]\n",
    "\n",
    "    if __name__==\"__main__\":\n",
    "        nums = [1,2,5,3,6,7,8]\n",
    "        Solution.rightRotate(nums,3)\n",
    "        print(nums)\n"
   ]
  },
  {
   "cell_type": "markdown",
   "id": "2ef0e43b",
   "metadata": {},
   "source": [
    "10. Left Rotate an array by one place"
   ]
  },
  {
   "cell_type": "code",
   "execution_count": 25,
   "id": "8c19d987",
   "metadata": {},
   "outputs": [
    {
     "name": "stdout",
     "output_type": "stream",
     "text": [
      "[2, 5, 3, 6, 7, 8, 1]\n"
     ]
    }
   ],
   "source": [
    "class Solution:\n",
    "    def leftRotate(nums):\n",
    "        nums[:] = nums[1:] + nums[:1]\n",
    "\n",
    "if __name__ == \"__main__\":\n",
    "    nums = [1, 2, 5, 3,6, 7, 8]\n",
    "    Solution.leftRotate(nums)\n",
    "    print(nums)"
   ]
  },
  {
   "cell_type": "markdown",
   "id": "621c21af",
   "metadata": {},
   "source": [
    "11. Left Rotate an array by k place"
   ]
  },
  {
   "cell_type": "code",
   "execution_count": null,
   "id": "31562673",
   "metadata": {},
   "outputs": [
    {
     "name": "stdout",
     "output_type": "stream",
     "text": [
      "[5, 3, 6, 7, 8, 1, 2]\n"
     ]
    }
   ],
   "source": [
    "class Solution:\n",
    "    def leftRotate(nums, k):\n",
    "        n = len(nums)\n",
    "        k = k % n  \n",
    "        for _ in range(k):\n",
    "            first = nums[0]\n",
    "            for i in range(1, n):\n",
    "                nums[i - 1] = nums[i]\n",
    "            nums[-1] = first\n",
    "\n",
    "if __name__ == \"__main__\":\n",
    "    nums = [1, 2, 5, 3,6, 7, 8]\n",
    "    k = 2\n",
    "    Solution.leftRotate(nums, k)\n",
    "    print(nums)\n"
   ]
  },
  {
   "cell_type": "markdown",
   "id": "e5990ca9",
   "metadata": {},
   "source": [
    "12) Move Zeros to end"
   ]
  },
  {
   "cell_type": "code",
   "execution_count": 8,
   "id": "3e1bf330",
   "metadata": {},
   "outputs": [
    {
     "name": "stdout",
     "output_type": "stream",
     "text": [
      "[1, 3, 12, 4, 5, 0, 0, 0]\n"
     ]
    }
   ],
   "source": [
    "class Solution:\n",
    "    def moveZeros(nums):\n",
    "        n = len(nums)\n",
    "        j = 0\n",
    "        for i in range(n):\n",
    "            if nums[i] != 0:\n",
    "                nums[j],nums[i] = nums[i],nums[j]\n",
    "                j += 1\n",
    "    \n",
    "if __name__==\"__main__\":\n",
    "    nums = [0, 1, 0, 3, 12,0,4,5]\n",
    "    Solution.moveZeros(nums)\n",
    "    print(nums)"
   ]
  },
  {
   "cell_type": "markdown",
   "id": "f67a2575",
   "metadata": {},
   "source": [
    "13. Linear Search"
   ]
  },
  {
   "cell_type": "code",
   "execution_count": 9,
   "id": "a4f948b8",
   "metadata": {},
   "outputs": [
    {
     "name": "stdout",
     "output_type": "stream",
     "text": [
      "Element 5 found at index 2.\n"
     ]
    }
   ],
   "source": [
    "class Solution:\n",
    "    def linearSearch(nums,k):\n",
    "        n = len(nums)\n",
    "        for i in range(n):\n",
    "            if nums[i] == k:\n",
    "                return i\n",
    "        return -1\n",
    "if __name__==\"__main__\":\n",
    "    nums = [1, 2, 5, 3, 6, 7, 8]\n",
    "    k = 5\n",
    "    result = Solution.linearSearch(nums, k)\n",
    "    if result != -1:\n",
    "        print(f\"Element {k} found at index {result}.\")\n",
    "    else:\n",
    "        print(f\"Element {k} not found in the array.\")"
   ]
  },
  {
   "cell_type": "markdown",
   "id": "4d269605",
   "metadata": {},
   "source": [
    "14. Union"
   ]
  },
  {
   "cell_type": "code",
   "execution_count": 16,
   "id": "988c1875",
   "metadata": {},
   "outputs": [
    {
     "name": "stdout",
     "output_type": "stream",
     "text": [
      "Union of the two arrays: [1, 2, 3, 4, 5, 6, 7, 8, 9]\n"
     ]
    }
   ],
   "source": [
    "class Solution:\n",
    "    def findUnion(arr1, arr2):\n",
    "        union = set(arr1) | set(arr2)\n",
    "        return sorted(union)\n",
    "    \n",
    "if __name__==\"__main__\":\n",
    "    arr1 = [1, 2, 3, 4, 5, 5 ,4, 6]\n",
    "    arr2 = [4, 5, 6, 7, 8, 4 , 5 , 9]\n",
    "    result = Solution.findUnion(arr1, arr2)\n",
    "    print(\"Union of the two arrays:\", result)   "
   ]
  },
  {
   "cell_type": "markdown",
   "id": "eba8f011",
   "metadata": {},
   "source": [
    "15. Find missing number in an array"
   ]
  },
  {
   "cell_type": "code",
   "execution_count": 19,
   "id": "c6152963",
   "metadata": {},
   "outputs": [
    {
     "name": "stdout",
     "output_type": "stream",
     "text": [
      "Missing number is: 4\n"
     ]
    }
   ],
   "source": [
    "class Solution:\n",
    "    def missingNumber(nums):\n",
    "        n = len(nums)\n",
    "        expexted_sum = n*(n+1)//2\n",
    "        actual_sum = sum(nums)\n",
    "        return expexted_sum - actual_sum\n",
    "\n",
    "if __name__==\"__main__\":\n",
    "    nums = [0, 1, 2, 3, 5]\n",
    "    result = Solution.missingNumber(nums)\n",
    "    print(\"Missing number is:\", result)"
   ]
  },
  {
   "cell_type": "markdown",
   "id": "4738bec6",
   "metadata": {},
   "source": [
    "16. Maximum Consecutive Ones"
   ]
  },
  {
   "cell_type": "code",
   "execution_count": null,
   "id": "de3cc08b",
   "metadata": {},
   "outputs": [
    {
     "name": "stdout",
     "output_type": "stream",
     "text": [
      "Maximum consecutive ones: 3\n"
     ]
    }
   ],
   "source": [
    "class Solution:\n",
    "    def maxConsecutiveOnes(nums):\n",
    "        max_count = 0\n",
    "        current_count = 0\n",
    "        \n",
    "        for num in nums:\n",
    "            if num == 1:\n",
    "                current_count += 1\n",
    "                max_count = max(max_count, current_count)\n",
    "            else:\n",
    "                current_count = 0      \n",
    "        return max_count\n",
    "    \n",
    "if __name__==\"__main__\":\n",
    "    nums = [1, 1, 0, 1, 1, 1]\n",
    "    result = Solution.maxConsecutiveOnes(nums)\n",
    "    print(\"Maximum consecutive ones:\", result)\n"
   ]
  },
  {
   "cell_type": "markdown",
   "id": "c53c1096",
   "metadata": {},
   "source": [
    "17. Find the number that appears once, and other numbers twice."
   ]
  },
  {
   "cell_type": "code",
   "execution_count": 3,
   "id": "8520b345",
   "metadata": {},
   "outputs": [
    {
     "name": "stdout",
     "output_type": "stream",
     "text": [
      "1\n"
     ]
    }
   ],
   "source": [
    "class Solution:\n",
    "    def singleNumber(nums):\n",
    "        result = 0\n",
    "        for num in nums:\n",
    "            result ^= num \n",
    "        return result\n",
    "\n",
    "if __name__==\"__main__\":\n",
    "    nums= [1,2,3,2,3]\n",
    "    ans = Solution.singleNumber(nums)\n",
    "    print(ans)"
   ]
  },
  {
   "cell_type": "markdown",
   "id": "9b66829f",
   "metadata": {},
   "source": [
    "18. SubArray"
   ]
  },
  {
   "cell_type": "code",
   "execution_count": 6,
   "id": "14cf5e8a",
   "metadata": {},
   "outputs": [
    {
     "name": "stdout",
     "output_type": "stream",
     "text": [
      "[2]\n",
      "[2, 4]\n",
      "[2, 4, 6]\n",
      "[2, 4, 6, 8]\n",
      "[2, 4, 6, 8, 10]\n",
      "[4]\n",
      "[4, 6]\n",
      "[4, 6, 8]\n",
      "[4, 6, 8, 10]\n",
      "[6]\n",
      "[6, 8]\n",
      "[6, 8, 10]\n",
      "[8]\n",
      "[8, 10]\n",
      "[10]\n"
     ]
    }
   ],
   "source": [
    "class Solution:\n",
    "    def printSubArray(nums):\n",
    "        n = len(nums)\n",
    "        for i in range(n):\n",
    "            for j in range(i,n):\n",
    "                print(nums[i:j+1])\n",
    "\n",
    "if __name__==\"__main__\":\n",
    "    nums=[2,4,6,8,10]\n",
    "    Solution.printSubArray(nums)"
   ]
  },
  {
   "cell_type": "markdown",
   "id": "8c654954",
   "metadata": {},
   "source": [
    "19. Longest subarray with given sum K(positives)"
   ]
  },
  {
   "cell_type": "code",
   "execution_count": 8,
   "id": "d5ebd954",
   "metadata": {},
   "outputs": [
    {
     "name": "stdout",
     "output_type": "stream",
     "text": [
      "Length of longest subarray with sum 15 is: 4\n"
     ]
    }
   ],
   "source": [
    "class Solution:\n",
    "    def longestSubarrayWithSumK(arr, K):\n",
    "        n = len(arr)\n",
    "        start = 0\n",
    "        curr_sum = 0\n",
    "        max_len = 0\n",
    "\n",
    "        for end in range(n):\n",
    "            curr_sum += arr[end]\n",
    "\n",
    "            while curr_sum > K:\n",
    "                curr_sum -= arr[start]\n",
    "                start += 1\n",
    "\n",
    "            if curr_sum == K:\n",
    "                max_len = max(max_len, end - start + 1)\n",
    "\n",
    "        return max_len\n",
    "\n",
    "if __name__ == \"__main__\":\n",
    "    arr = [10, 5, 2, 7, 1, 9]\n",
    "    K = 15\n",
    "    result = Solution.longestSubarrayWithSumK(arr, K)\n",
    "    print(\"Length of longest subarray with sum\", K, \"is:\", result)"
   ]
  },
  {
   "cell_type": "markdown",
   "id": "1771ad9f",
   "metadata": {},
   "source": [
    "20. Longest subarray with sum K (Positives + Negatives)"
   ]
  },
  {
   "cell_type": "code",
   "execution_count": 9,
   "id": "db2d818c",
   "metadata": {},
   "outputs": [
    {
     "name": "stdout",
     "output_type": "stream",
     "text": [
      "Length of longest subarray with sum 3 is: 4\n"
     ]
    }
   ],
   "source": [
    "class Solution:\n",
    "    def longestSubarrayWithSumK(arr, K):\n",
    "        prefix_sum = 0\n",
    "        max_len = 0\n",
    "        prefix_map = {}\n",
    "\n",
    "        for i in range(len(arr)):\n",
    "            prefix_sum += arr[i]\n",
    "\n",
    "            if prefix_sum == K:\n",
    "                max_len = i + 1  # Subarray from 0 to i\n",
    "\n",
    "            if (prefix_sum - K) in prefix_map:\n",
    "                length = i - prefix_map[prefix_sum - K]\n",
    "                max_len = max(max_len, length)\n",
    "\n",
    "            # Store the first occurrence of prefix_sum\n",
    "            if prefix_sum not in prefix_map:\n",
    "                prefix_map[prefix_sum] = i\n",
    "\n",
    "        return max_len\n",
    "\n",
    "if __name__ == \"__main__\":\n",
    "    arr = [1, -1, 5, -2, 3]\n",
    "    K = 3\n",
    "    result = Solution.longestSubarrayWithSumK(arr, K)\n",
    "    print(\"Length of longest subarray with sum\", K, \"is:\", result)"
   ]
  }
 ],
 "metadata": {
  "kernelspec": {
   "display_name": "base",
   "language": "python",
   "name": "python3"
  },
  "language_info": {
   "codemirror_mode": {
    "name": "ipython",
    "version": 3
   },
   "file_extension": ".py",
   "mimetype": "text/x-python",
   "name": "python",
   "nbconvert_exporter": "python",
   "pygments_lexer": "ipython3",
   "version": "3.12.7"
  }
 },
 "nbformat": 4,
 "nbformat_minor": 5
}
