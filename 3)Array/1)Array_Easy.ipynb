{
 "cells": [
  {
   "cell_type": "markdown",
   "id": "a25405dc",
   "metadata": {},
   "source": [
    "1.Largest Element in an Array"
   ]
  },
  {
   "cell_type": "code",
   "execution_count": 3,
   "id": "2d3984b8",
   "metadata": {},
   "outputs": [
    {
     "name": "stdout",
     "output_type": "stream",
     "text": [
      "Largest element =  10\n"
     ]
    }
   ],
   "source": [
    "class Solution:\n",
    "    def largest(nums):\n",
    "        largest = float('-inf')\n",
    "\n",
    "        for i in nums:\n",
    "            if i > largest:\n",
    "                largest = i\n",
    "        return largest\n",
    "\n",
    "    if __name__==\"__main__\":\n",
    "        nums = [2,5,3,4,8,1,4,6,7,9,10]\n",
    "        print(\"Largest element = \",largest(nums))"
   ]
  },
  {
   "cell_type": "markdown",
   "id": "9c64c302",
   "metadata": {},
   "source": [
    "2. Second Largest Element in an Array without sorting"
   ]
  },
  {
   "cell_type": "code",
   "execution_count": 5,
   "id": "2a0e23ca",
   "metadata": {},
   "outputs": [
    {
     "name": "stdout",
     "output_type": "stream",
     "text": [
      "second Largest element =  9\n"
     ]
    }
   ],
   "source": [
    "class Solution:\n",
    "    def largest(nums):\n",
    "        largest = float('-inf')\n",
    "        snd_largest = float('-inf')\n",
    "\n",
    "        for i in nums:\n",
    "            if i > largest:\n",
    "                snd_largest= largest\n",
    "                largest = i\n",
    "            elif i > snd_largest and i!= largest:\n",
    "                snd_largest = i\n",
    "        return snd_largest\n",
    "\n",
    "    if __name__==\"__main__\":\n",
    "        nums = [2,5,3,4,8,1,4,6,7,9,10]\n",
    "        print(\"second Largest element = \",largest(nums))"
   ]
  },
  {
   "cell_type": "markdown",
   "id": "73ee5bd4",
   "metadata": {},
   "source": [
    "3. Check if the array is sorted"
   ]
  },
  {
   "cell_type": "code",
   "execution_count": 5,
   "id": "6c8ea0f1",
   "metadata": {},
   "outputs": [
    {
     "name": "stdout",
     "output_type": "stream",
     "text": [
      "True\n"
     ]
    }
   ],
   "source": [
    "class Solution:\n",
    "    def sortedArray(nums):\n",
    "        for i in range(1,len(nums)):\n",
    "            if nums[i] < nums[i-1]:\n",
    "                return False\n",
    "        return True\n",
    "\n",
    "if __name__ ==\"__main__\":\n",
    "    nums= [1,2,5,6,9]\n",
    "    print(Solution.sortedArray(nums))"
   ]
  },
  {
   "cell_type": "markdown",
   "id": "b3535568",
   "metadata": {},
   "source": [
    "4. Check if Array Is Sorted and Rotated"
   ]
  },
  {
   "cell_type": "code",
   "execution_count": 7,
   "id": "f0302cf8",
   "metadata": {},
   "outputs": [
    {
     "name": "stdout",
     "output_type": "stream",
     "text": [
      "True\n"
     ]
    }
   ],
   "source": [
    "class Solution:\n",
    "    def checkArray(nums):\n",
    "        n = len(nums) - 1\n",
    "        cnt = 0\n",
    "        if nums[0] < nums[n]:\n",
    "            cnt+=1\n",
    "        for i in range(n):\n",
    "            if nums[i] > nums[i+1]:\n",
    "                cnt+=1\n",
    "            if cnt > 1:\n",
    "                return False\n",
    "        return True\n",
    "if __name__==\"__main__\":\n",
    "    nums = [3,4,5,1,2]\n",
    "    print(Solution.checkArray(nums))"
   ]
  },
  {
   "cell_type": "markdown",
   "id": "34a1bc63",
   "metadata": {},
   "source": [
    "5. Remove duplicates from Sorted array"
   ]
  },
  {
   "cell_type": "code",
   "execution_count": 15,
   "id": "82158c9f",
   "metadata": {},
   "outputs": [
    {
     "name": "stdout",
     "output_type": "stream",
     "text": [
      "7\n"
     ]
    }
   ],
   "source": [
    "class Solution:\n",
    "    def removeDuplicate(nums):\n",
    "        n= len(nums)\n",
    "        if n==1:\n",
    "            return 1\n",
    "        i = 0\n",
    "        j = i+1\n",
    "        while j < n:\n",
    "            if nums[j] != nums[i]:\n",
    "                i+=1\n",
    "                nums[i],nums[j] = nums[j],nums[i]\n",
    "            j+=1\n",
    "        return i+1\n",
    "    \n",
    "    if __name__ ==\"__main__\":\n",
    "        nums = [0,0,1,1,1,2,2,3,3,4,5,6]\n",
    "        print(Solution.removeDuplicate(nums))\n"
   ]
  },
  {
   "cell_type": "markdown",
   "id": "ac4b1019",
   "metadata": {},
   "source": [
    "8. Right Rotate an array by one place"
   ]
  },
  {
   "cell_type": "code",
   "execution_count": 18,
   "id": "9af2f5bb",
   "metadata": {},
   "outputs": [
    {
     "name": "stdout",
     "output_type": "stream",
     "text": [
      "[8, 1, 2, 5, 3.6, 7]\n"
     ]
    }
   ],
   "source": [
    "class Solution:\n",
    "    def rightRotate(nums):\n",
    "        n = len(nums)\n",
    "        temp = nums[n-1]\n",
    "        for i in range(n-2,-1,-1):\n",
    "            nums[i+1] = nums[i]\n",
    "        nums[0] = temp\n",
    "\n",
    "    if __name__==\"__main__\":\n",
    "        nums = [1,2,5,3.6,7,8]\n",
    "        Solution.rightRotate(nums)\n",
    "        print(nums)"
   ]
  },
  {
   "cell_type": "markdown",
   "id": "9b87be4b",
   "metadata": {},
   "source": [
    "9. Right Rotate an array by k place"
   ]
  },
  {
   "cell_type": "code",
   "execution_count": null,
   "id": "1088f30c",
   "metadata": {},
   "outputs": [],
   "source": [
    "class Solution:\n",
    "    def rightRotate(nums,k):\n",
    "        n = len(nums)"
   ]
  }
 ],
 "metadata": {
  "kernelspec": {
   "display_name": "base",
   "language": "python",
   "name": "python3"
  },
  "language_info": {
   "codemirror_mode": {
    "name": "ipython",
    "version": 3
   },
   "file_extension": ".py",
   "mimetype": "text/x-python",
   "name": "python",
   "nbconvert_exporter": "python",
   "pygments_lexer": "ipython3",
   "version": "3.12.7"
  }
 },
 "nbformat": 4,
 "nbformat_minor": 5
}
