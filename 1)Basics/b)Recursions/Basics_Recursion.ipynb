{
 "cells": [
  {
   "cell_type": "markdown",
   "id": "93848a51",
   "metadata": {},
   "source": [
    "1.Print name N times using recursion"
   ]
  },
  {
   "cell_type": "code",
   "execution_count": 14,
   "id": "0c48de77",
   "metadata": {},
   "outputs": [
    {
     "name": "stdout",
     "output_type": "stream",
     "text": [
      "Aditya Kumar\n",
      "Aditya Kumar\n",
      "Aditya Kumar\n",
      "Aditya Kumar\n",
      "Aditya Kumar\n"
     ]
    }
   ],
   "source": [
    "class Solution:\n",
    "    def printname(i,n):\n",
    "        if i > n:\n",
    "            return\n",
    "        print(\"Aditya Kumar\")\n",
    "        Solution.printname(i+1,n)\n",
    "\n",
    "if __name__==\"__main__\":\n",
    "    n= 5\n",
    "    Solution.printname(1,n)"
   ]
  },
  {
   "cell_type": "markdown",
   "id": "d8bdd2fe",
   "metadata": {},
   "source": [
    "2. Print 1 to N using recursion\n"
   ]
  },
  {
   "cell_type": "code",
   "execution_count": 16,
   "id": "5a36b75f",
   "metadata": {},
   "outputs": [
    {
     "name": "stdout",
     "output_type": "stream",
     "text": [
      "1 2 3 4 5 6 7 8 9 10 "
     ]
    }
   ],
   "source": [
    "class Solution:\n",
    "    def printNum(i,n):\n",
    "        if i > n:\n",
    "            return\n",
    "        print(i,end = \" \")\n",
    "        Solution.printNum(i+1,n)\n",
    "\n",
    "if __name__==\"__main__\":\n",
    "    n=10\n",
    "    Solution.printNum(1,n)\n"
   ]
  },
  {
   "cell_type": "markdown",
   "id": "65c23a9d",
   "metadata": {},
   "source": [
    "3. Print N to 1 using recursion"
   ]
  },
  {
   "cell_type": "code",
   "execution_count": 17,
   "id": "e8a2c2c0",
   "metadata": {},
   "outputs": [
    {
     "name": "stdout",
     "output_type": "stream",
     "text": [
      "10 9 8 7 6 5 4 3 2 1 "
     ]
    }
   ],
   "source": [
    "class Solution:\n",
    "    def printNum(n):\n",
    "        if n < 1:\n",
    "            return\n",
    "        print(n,end = \" \")\n",
    "        Solution.printNum(n-1)\n",
    "\n",
    "if __name__==\"__main__\":\n",
    "    n=10\n",
    "    Solution.printNum(n)"
   ]
  },
  {
   "cell_type": "markdown",
   "id": "6d6578ee",
   "metadata": {},
   "source": [
    "4. Sum of first N numbers"
   ]
  },
  {
   "cell_type": "code",
   "execution_count": 28,
   "id": "5b5c7e55",
   "metadata": {},
   "outputs": [
    {
     "name": "stdout",
     "output_type": "stream",
     "text": [
      "Sum =  55\n"
     ]
    }
   ],
   "source": [
    "class Solution:\n",
    "    def printNum(n,sum):\n",
    "        if n < 1:\n",
    "            print(\"Sum = \",sum)\n",
    "            return\n",
    "        Solution.printNum(n-1,sum+n)\n",
    "\n",
    "if __name__==\"__main__\":\n",
    "    n=10\n",
    "    Solution.printNum(n,0)"
   ]
  },
  {
   "cell_type": "markdown",
   "id": "07f19c18",
   "metadata": {},
   "source": [
    "5. Factorial of N numbers"
   ]
  },
  {
   "cell_type": "code",
   "execution_count": 29,
   "id": "249ea3be",
   "metadata": {},
   "outputs": [
    {
     "name": "stdout",
     "output_type": "stream",
     "text": [
      "Factorial =  120\n"
     ]
    }
   ],
   "source": [
    "class Solution:\n",
    "    def printFacto(n,Facto):\n",
    "        if n < 1:\n",
    "            print(\"Factorial = \",Facto)\n",
    "            return\n",
    "        Solution.printFacto(n-1,Facto*n)\n",
    "\n",
    "if __name__==\"__main__\":\n",
    "    n=5\n",
    "    Solution.printFacto(n,1)"
   ]
  },
  {
   "cell_type": "markdown",
   "id": "a19fecdf",
   "metadata": {},
   "source": [
    "6. Reverse an array"
   ]
  }
 ],
 "metadata": {
  "kernelspec": {
   "display_name": "base",
   "language": "python",
   "name": "python3"
  },
  "language_info": {
   "codemirror_mode": {
    "name": "ipython",
    "version": 3
   },
   "file_extension": ".py",
   "mimetype": "text/x-python",
   "name": "python",
   "nbconvert_exporter": "python",
   "pygments_lexer": "ipython3",
   "version": "3.12.7"
  }
 },
 "nbformat": 4,
 "nbformat_minor": 5
}
