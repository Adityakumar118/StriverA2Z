{
 "cells": [
  {
   "cell_type": "markdown",
   "id": "79600702",
   "metadata": {},
   "source": [
    "1) Count Digits"
   ]
  },
  {
   "cell_type": "code",
   "execution_count": null,
   "id": "3f9d7571",
   "metadata": {},
   "outputs": [
    {
     "name": "stdout",
     "output_type": "stream",
     "text": [
      "Number =  12542\n",
      "no of digits in n12542 =  5\n"
     ]
    }
   ],
   "source": [
    "import math\n",
    "class solution:\n",
    "    def countDigit(n):\n",
    "        cnt = int(math.log10(n)+1)\n",
    "        return cnt\n",
    "    \n",
    "    if __name__ ==\"__main__\":\n",
    "        n= 12542\n",
    "        print(\"Number = \",n)\n",
    "        print(f\"no of digits in {n} = \",countDigit(n))"
   ]
  },
  {
   "cell_type": "markdown",
   "id": "56536d39",
   "metadata": {},
   "source": [
    "2) Reverse a Number"
   ]
  },
  {
   "cell_type": "code",
   "execution_count": 5,
   "id": "02e83f19",
   "metadata": {},
   "outputs": [
    {
     "name": "stdout",
     "output_type": "stream",
     "text": [
      "reverese of -123 =  -321\n"
     ]
    }
   ],
   "source": [
    "class Solution():\n",
    "    def reverse(x):\n",
    "        INT_MIN, INT_MAX = -2**31, 2**31 - 1\n",
    "        sign = -1 if x < 0 else 1\n",
    "        num = abs(x)\n",
    "        result =0\n",
    "\n",
    "        while num>0:\n",
    "            digit = num%10\n",
    "            result = result*10 + digit\n",
    "            num = num//10\n",
    "        result *=sign\n",
    "\n",
    "        if result < INT_MIN or result > INT_MAX:\n",
    "            return 0      \n",
    "        return result\n",
    "\n",
    "    if __name__ == \"__main__\":\n",
    "        x= -123\n",
    "        print(f\"reverese of {x} = \",reverse(x))\n",
    "        "
   ]
  },
  {
   "cell_type": "markdown",
   "id": "dc95cb1a",
   "metadata": {},
   "source": [
    "3) Check Palindrome"
   ]
  },
  {
   "cell_type": "code",
   "execution_count": 9,
   "id": "bbe1b2a8",
   "metadata": {},
   "outputs": [
    {
     "name": "stdout",
     "output_type": "stream",
     "text": [
      "True\n"
     ]
    }
   ],
   "source": [
    "class solution:\n",
    "    def checkPalindrome(n):\n",
    "        num = n\n",
    "        result =0\n",
    "\n",
    "        while num>0:\n",
    "            digit = num % 10\n",
    "            result = result * 10 + digit\n",
    "            num = num//10\n",
    "        return n == result\n",
    "\n",
    "    if __name__ == \"__main__\":\n",
    "        n = 121\n",
    "        print(checkPalindrome(n))"
   ]
  },
  {
   "cell_type": "markdown",
   "id": "8ecb1a17",
   "metadata": {},
   "source": [
    "4) Armstrong "
   ]
  },
  {
   "cell_type": "code",
   "execution_count": 4,
   "id": "c3f694df",
   "metadata": {},
   "outputs": [
    {
     "name": "stdout",
     "output_type": "stream",
     "text": [
      "True\n"
     ]
    }
   ],
   "source": [
    "class solution:\n",
    "    def checkArmstrong(n):\n",
    "        num = n\n",
    "        result = 0\n",
    "        x = len(str(n))\n",
    "\n",
    "        while num >0:\n",
    "            digit = num % 10\n",
    "            result += digit**x\n",
    "            num = num//10\n",
    "        return result == n\n",
    "    \n",
    "    if __name__==\"__main__\":\n",
    "        n = 153\n",
    "        print(checkArmstrong(n))"
   ]
  },
  {
   "cell_type": "markdown",
   "id": "a8dd8e03",
   "metadata": {},
   "source": [
    "5) GCD"
   ]
  },
  {
   "cell_type": "code",
   "execution_count": 6,
   "id": "c42d2662",
   "metadata": {},
   "outputs": [
    {
     "name": "stdout",
     "output_type": "stream",
     "text": [
      "Hcf of 24,15 =  9\n"
     ]
    }
   ],
   "source": [
    "class solution:\n",
    "    def calculateGcd(a,b):\n",
    "        while a>b:\n",
    "            if a > b:\n",
    "                a -=b\n",
    "            else:\n",
    "                b -=a\n",
    "        return a\n",
    "    \n",
    "    if __name__==\"__main__\":\n",
    "        a = 24\n",
    "        b = 15\n",
    "        print(f\"Hcf of {a},{b} = \",calculateGcd(a,b))"
   ]
  },
  {
   "cell_type": "markdown",
   "id": "f03c0e81",
   "metadata": {},
   "source": [
    "6. Print all Divisors"
   ]
  },
  {
   "cell_type": "code",
   "execution_count": 8,
   "id": "83cfe8b7",
   "metadata": {},
   "outputs": [
    {
     "name": "stdout",
     "output_type": "stream",
     "text": [
      "Divisors of 36 are: [1, 2, 3, 4, 6, 7, 9, 12, 18, 36]\n"
     ]
    }
   ],
   "source": [
    "import math\n",
    "class solution:\n",
    "    def findDivisors(n):\n",
    "        divisors = []\n",
    "        sqrtN = int(math.sqrt(n))\n",
    "        for i in range(1,sqrtN+1):\n",
    "            if n % i ==0:\n",
    "                divisors.append(i)\n",
    "            if i != n//i:\n",
    "                divisors.append(n//i)\n",
    "        return sorted(divisors)\n",
    "    \n",
    "    if __name__==\"__main__\":\n",
    "        n = 36\n",
    "        print(f\"Divisors of {n} are: {findDivisors(n)}\")\n"
   ]
  },
  {
   "cell_type": "markdown",
   "id": "43d9814e",
   "metadata": {},
   "source": [
    "7) Prime numbers"
   ]
  },
  {
   "cell_type": "code",
   "execution_count": 12,
   "id": "e31edcc3",
   "metadata": {},
   "outputs": [
    {
     "name": "stdout",
     "output_type": "stream",
     "text": [
      "True\n"
     ]
    }
   ],
   "source": [
    "import math\n",
    "class solution:\n",
    "    def checkPrime(n):\n",
    "        if n==2:\n",
    "            return True\n",
    "        if n%2==0:\n",
    "            return False\n",
    "        for i in range(2,int(math.sqrt(n)+1)):\n",
    "            if n%i==0:\n",
    "                return False\n",
    "        return True\n",
    "    \n",
    "    if __name__==\"__main__\":\n",
    "        n = 5\n",
    "        print(checkPrime(n))"
   ]
  }
 ],
 "metadata": {
  "kernelspec": {
   "display_name": "base",
   "language": "python",
   "name": "python3"
  },
  "language_info": {
   "codemirror_mode": {
    "name": "ipython",
    "version": 3
   },
   "file_extension": ".py",
   "mimetype": "text/x-python",
   "name": "python",
   "nbconvert_exporter": "python",
   "pygments_lexer": "ipython3",
   "version": "3.12.7"
  }
 },
 "nbformat": 4,
 "nbformat_minor": 5
}
