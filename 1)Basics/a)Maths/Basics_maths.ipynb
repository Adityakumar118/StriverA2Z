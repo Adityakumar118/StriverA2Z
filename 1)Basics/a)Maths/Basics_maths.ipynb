{
 "cells": [
  {
   "cell_type": "markdown",
   "id": "79600702",
   "metadata": {},
   "source": [
    "1) Count Digits"
   ]
  },
  {
   "cell_type": "code",
   "execution_count": null,
   "id": "3f9d7571",
   "metadata": {},
   "outputs": [
    {
     "name": "stdout",
     "output_type": "stream",
     "text": [
      "Number =  12542\n",
      "no of digits in n12542 =  5\n"
     ]
    }
   ],
   "source": [
    "import math\n",
    "class solution:\n",
    "    def countDigit(n):\n",
    "        cnt = int(math.log10(n)+1)\n",
    "        return cnt\n",
    "    \n",
    "    if __name__ ==\"__main__\":\n",
    "        n= 12542\n",
    "        print(\"Number = \",n)\n",
    "        print(f\"no of digits in {n} = \",countDigit(n))"
   ]
  },
  {
   "cell_type": "markdown",
   "id": "56536d39",
   "metadata": {},
   "source": [
    "2) Reverse a Number"
   ]
  },
  {
   "cell_type": "code",
   "execution_count": 5,
   "id": "02e83f19",
   "metadata": {},
   "outputs": [
    {
     "name": "stdout",
     "output_type": "stream",
     "text": [
      "reverese of -123 =  -321\n"
     ]
    }
   ],
   "source": [
    "class Solution():\n",
    "    def reverse(x):\n",
    "        INT_MIN, INT_MAX = -2**31, 2**31 - 1\n",
    "        sign = -1 if x < 0 else 1\n",
    "        num = abs(x)\n",
    "        result =0\n",
    "\n",
    "        while num>0:\n",
    "            digit = num%10\n",
    "            result = result*10 + digit\n",
    "            num = num//10\n",
    "        result *=sign\n",
    "\n",
    "        if result < INT_MIN or result > INT_MAX:\n",
    "            return 0      \n",
    "        return result\n",
    "\n",
    "    if __name__ == \"__main__\":\n",
    "        x= -123\n",
    "        print(f\"reverese of {x} = \",reverse(x))\n",
    "        "
   ]
  },
  {
   "cell_type": "markdown",
   "id": "dc95cb1a",
   "metadata": {},
   "source": [
    "3) Check Palindrome"
   ]
  },
  {
   "cell_type": "code",
   "execution_count": 9,
   "id": "bbe1b2a8",
   "metadata": {},
   "outputs": [
    {
     "name": "stdout",
     "output_type": "stream",
     "text": [
      "True\n"
     ]
    }
   ],
   "source": [
    "class solution:\n",
    "    def checkPalindrome(n):\n",
    "        num = n\n",
    "        result =0\n",
    "\n",
    "        while num>0:\n",
    "            digit = num % 10\n",
    "            result = result * 10 + digit\n",
    "            num = num//10\n",
    "        return n == result\n",
    "\n",
    "    if __name__ == \"__main__\":\n",
    "        n = 121\n",
    "        print(checkPalindrome(n))"
   ]
  }
 ],
 "metadata": {
  "kernelspec": {
   "display_name": "base",
   "language": "python",
   "name": "python3"
  },
  "language_info": {
   "codemirror_mode": {
    "name": "ipython",
    "version": 3
   },
   "file_extension": ".py",
   "mimetype": "text/x-python",
   "name": "python",
   "nbconvert_exporter": "python",
   "pygments_lexer": "ipython3",
   "version": "3.12.7"
  }
 },
 "nbformat": 4,
 "nbformat_minor": 5
}
